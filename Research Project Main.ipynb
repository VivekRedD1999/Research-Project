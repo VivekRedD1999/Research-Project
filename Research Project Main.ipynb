{
 "cells": [
  {
   "cell_type": "code",
   "execution_count": 1,
   "id": "1d8e8d2c",
   "metadata": {},
   "outputs": [],
   "source": [
    "import pandas as pd \n",
    "import numpy as np\n",
    "import re\n"
   ]
  },
  {
   "cell_type": "code",
   "execution_count": 2,
   "id": "e6b96fd4",
   "metadata": {},
   "outputs": [],
   "source": [
    "import nltk\n",
    "\n",
    "from nltk.tokenize import RegexpTokenizer\n",
    "from nltk.stem import WordNetLemmatizer,PorterStemmer\n",
    "from nltk.corpus import stopwords\n",
    "import re\n",
    "lemmatizer = WordNetLemmatizer()\n",
    "stemmer = PorterStemmer() \n"
   ]
  },
  {
   "cell_type": "code",
   "execution_count": 3,
   "id": "9c2e34ff",
   "metadata": {},
   "outputs": [],
   "source": [
    "data = pd.read_csv(r'C:\\Users\\Vivek\\OneDrive\\Desktop\\cleaned_tweets.csv')"
   ]
  },
  {
   "cell_type": "code",
   "execution_count": 4,
   "id": "61c2b5e0",
   "metadata": {},
   "outputs": [
    {
     "data": {
      "text/html": [
       "<div>\n",
       "<style scoped>\n",
       "    .dataframe tbody tr th:only-of-type {\n",
       "        vertical-align: middle;\n",
       "    }\n",
       "\n",
       "    .dataframe tbody tr th {\n",
       "        vertical-align: top;\n",
       "    }\n",
       "\n",
       "    .dataframe thead th {\n",
       "        text-align: right;\n",
       "    }\n",
       "</style>\n",
       "<table border=\"1\" class=\"dataframe\">\n",
       "  <thead>\n",
       "    <tr style=\"text-align: right;\">\n",
       "      <th></th>\n",
       "      <th>Unnamed: 0</th>\n",
       "      <th>Tweets</th>\n",
       "      <th>cleaned_tweets</th>\n",
       "      <th>Tweet Date</th>\n",
       "    </tr>\n",
       "  </thead>\n",
       "  <tbody>\n",
       "    <tr>\n",
       "      <th>0</th>\n",
       "      <td>0</td>\n",
       "      <td>bawazeer2 china4tech it will take a lot of hum...</td>\n",
       "      <td>['ErikSolheim', 'It', 'take', 'lot', 'humility...</td>\n",
       "      <td>3/6/2023 12:41</td>\n",
       "    </tr>\n",
       "    <tr>\n",
       "      <th>1</th>\n",
       "      <td>1</td>\n",
       "      <td>now for upsc prelims  google and just understa...</td>\n",
       "      <td>['AI', 'related', 'Important', 'terms', 'must'...</td>\n",
       "      <td>3/6/2023 12:41</td>\n",
       "    </tr>\n",
       "    <tr>\n",
       "      <th>2</th>\n",
       "      <td>2</td>\n",
       "      <td>zenship in a country called latvia  he will be...</td>\n",
       "      <td>['INEC', 'chairman', 'obtained', 'new', 'citiz...</td>\n",
       "      <td>3/6/2023 12:41</td>\n",
       "    </tr>\n",
       "    <tr>\n",
       "      <th>3</th>\n",
       "      <td>3</td>\n",
       "      <td>e meeting that google exec was set to attend  ...</td>\n",
       "      <td>['Technical', 'difficulties', 'delay', 'commit...</td>\n",
       "      <td>3/6/2023 12:41</td>\n",
       "    </tr>\n",
       "    <tr>\n",
       "      <th>4</th>\n",
       "      <td>4</td>\n",
       "      <td>people probably dont care at all about convers...</td>\n",
       "      <td>['ca', \"n't\", 'shake', 'feeling', 'young', 'pe...</td>\n",
       "      <td>3/6/2023 12:41</td>\n",
       "    </tr>\n",
       "  </tbody>\n",
       "</table>\n",
       "</div>"
      ],
      "text/plain": [
       "   Unnamed: 0                                             Tweets  \\\n",
       "0           0  bawazeer2 china4tech it will take a lot of hum...   \n",
       "1           1  now for upsc prelims  google and just understa...   \n",
       "2           2  zenship in a country called latvia  he will be...   \n",
       "3           3  e meeting that google exec was set to attend  ...   \n",
       "4           4  people probably dont care at all about convers...   \n",
       "\n",
       "                                      cleaned_tweets      Tweet Date  \n",
       "0  ['ErikSolheim', 'It', 'take', 'lot', 'humility...  3/6/2023 12:41  \n",
       "1  ['AI', 'related', 'Important', 'terms', 'must'...  3/6/2023 12:41  \n",
       "2  ['INEC', 'chairman', 'obtained', 'new', 'citiz...  3/6/2023 12:41  \n",
       "3  ['Technical', 'difficulties', 'delay', 'commit...  3/6/2023 12:41  \n",
       "4  ['ca', \"n't\", 'shake', 'feeling', 'young', 'pe...  3/6/2023 12:41  "
      ]
     },
     "execution_count": 4,
     "metadata": {},
     "output_type": "execute_result"
    }
   ],
   "source": [
    "data.head()"
   ]
  },
  {
   "cell_type": "code",
   "execution_count": 6,
   "id": "e830d438",
   "metadata": {},
   "outputs": [
    {
     "data": {
      "text/html": [
       "<div>\n",
       "<style scoped>\n",
       "    .dataframe tbody tr th:only-of-type {\n",
       "        vertical-align: middle;\n",
       "    }\n",
       "\n",
       "    .dataframe tbody tr th {\n",
       "        vertical-align: top;\n",
       "    }\n",
       "\n",
       "    .dataframe thead th {\n",
       "        text-align: right;\n",
       "    }\n",
       "</style>\n",
       "<table border=\"1\" class=\"dataframe\">\n",
       "  <thead>\n",
       "    <tr style=\"text-align: right;\">\n",
       "      <th></th>\n",
       "      <th>Unnamed: 0</th>\n",
       "      <th>Tweets</th>\n",
       "      <th>cleaned_tweets</th>\n",
       "      <th>Tweet Date</th>\n",
       "      <th>cleaned</th>\n",
       "    </tr>\n",
       "  </thead>\n",
       "  <tbody>\n",
       "    <tr>\n",
       "      <th>0</th>\n",
       "      <td>0</td>\n",
       "      <td>bawazeer2 china4tech it will take a lot of hum...</td>\n",
       "      <td>['ErikSolheim', 'It', 'take', 'lot', 'humility...</td>\n",
       "      <td>3/6/2023 12:41</td>\n",
       "      <td>eriksolheim take lot humility side america</td>\n",
       "    </tr>\n",
       "    <tr>\n",
       "      <th>1</th>\n",
       "      <td>1</td>\n",
       "      <td>now for upsc prelims  google and just understa...</td>\n",
       "      <td>['AI', 'related', 'Important', 'terms', 'must'...</td>\n",
       "      <td>3/6/2023 12:41</td>\n",
       "      <td>related important terms must know upsc prelims...</td>\n",
       "    </tr>\n",
       "    <tr>\n",
       "      <th>2</th>\n",
       "      <td>2</td>\n",
       "      <td>zenship in a country called latvia  he will be...</td>\n",
       "      <td>['INEC', 'chairman', 'obtained', 'new', 'citiz...</td>\n",
       "      <td>3/6/2023 12:41</td>\n",
       "      <td>inec chairman obtained new citizenship country...</td>\n",
       "    </tr>\n",
       "    <tr>\n",
       "      <th>3</th>\n",
       "      <td>3</td>\n",
       "      <td>e meeting that google exec was set to attend  ...</td>\n",
       "      <td>['Technical', 'difficulties', 'delay', 'commit...</td>\n",
       "      <td>3/6/2023 12:41</td>\n",
       "      <td>technical difficulties delay committee meeting...</td>\n",
       "    </tr>\n",
       "    <tr>\n",
       "      <th>4</th>\n",
       "      <td>4</td>\n",
       "      <td>people probably dont care at all about convers...</td>\n",
       "      <td>['ca', \"n't\", 'shake', 'feeling', 'young', 'pe...</td>\n",
       "      <td>3/6/2023 12:41</td>\n",
       "      <td>shake feeling young people probably care conve...</td>\n",
       "    </tr>\n",
       "  </tbody>\n",
       "</table>\n",
       "</div>"
      ],
      "text/plain": [
       "   Unnamed: 0                                             Tweets  \\\n",
       "0           0  bawazeer2 china4tech it will take a lot of hum...   \n",
       "1           1  now for upsc prelims  google and just understa...   \n",
       "2           2  zenship in a country called latvia  he will be...   \n",
       "3           3  e meeting that google exec was set to attend  ...   \n",
       "4           4  people probably dont care at all about convers...   \n",
       "\n",
       "                                      cleaned_tweets      Tweet Date  \\\n",
       "0  ['ErikSolheim', 'It', 'take', 'lot', 'humility...  3/6/2023 12:41   \n",
       "1  ['AI', 'related', 'Important', 'terms', 'must'...  3/6/2023 12:41   \n",
       "2  ['INEC', 'chairman', 'obtained', 'new', 'citiz...  3/6/2023 12:41   \n",
       "3  ['Technical', 'difficulties', 'delay', 'commit...  3/6/2023 12:41   \n",
       "4  ['ca', \"n't\", 'shake', 'feeling', 'young', 'pe...  3/6/2023 12:41   \n",
       "\n",
       "                                             cleaned  \n",
       "0         eriksolheim take lot humility side america  \n",
       "1  related important terms must know upsc prelims...  \n",
       "2  inec chairman obtained new citizenship country...  \n",
       "3  technical difficulties delay committee meeting...  \n",
       "4  shake feeling young people probably care conve...  "
      ]
     },
     "execution_count": 6,
     "metadata": {},
     "output_type": "execute_result"
    }
   ],
   "source": [
    "def preprocess(sentence):\n",
    "    sentence=str(sentence)\n",
    "    sentence = sentence.lower()\n",
    "    sentence=sentence.replace('{html}',\"\") \n",
    "    cleanr = re.compile('<.*?>')\n",
    "    cleantext = re.sub(cleanr, '', sentence)\n",
    "    rem_url=re.sub(r'http\\S+', '',cleantext)\n",
    "    rem_num = re.sub('[0-9]+', '', rem_url)\n",
    "    tokenizer = RegexpTokenizer(r'\\w+')\n",
    "    tokens = tokenizer.tokenize(rem_num)  \n",
    "    filtered_words = [w for w in tokens if len(w) > 2 if not w in stopwords.words('english')]\n",
    "    stem_words=[stemmer.stem(w) for w in filtered_words]\n",
    "    lemma_words=[lemmatizer.lemmatize(w) for w in stem_words]\n",
    "    return \" \".join(filtered_words)\n",
    "\n",
    "data['cleaned']=data['cleaned_tweets'].map(lambda s:preprocess(s)) \n",
    "data.head()"
   ]
  },
  {
   "cell_type": "code",
   "execution_count": 8,
   "id": "8451a769",
   "metadata": {},
   "outputs": [
    {
     "data": {
      "text/plain": [
       "'eriksolheim take lot humility side america'"
      ]
     },
     "execution_count": 8,
     "metadata": {},
     "output_type": "execute_result"
    }
   ],
   "source": [
    "data['cleaned'][0]"
   ]
  },
  {
   "cell_type": "code",
   "execution_count": 9,
   "id": "328346b6",
   "metadata": {},
   "outputs": [],
   "source": [
    "from textblob import TextBlob \n",
    "def get_tweet_sentiment(tweet): \n",
    "\n",
    "        analysis = TextBlob(tweet)\n",
    "        # set sentiment \n",
    "        if analysis.sentiment.polarity > 0: \n",
    "            return 'positive'\n",
    "        elif analysis.sentiment.polarity == 0: \n",
    "            return 'neutral'\n",
    "        else: \n",
    "            return 'negative'\n",
    "        \n"
   ]
  },
  {
   "cell_type": "code",
   "execution_count": 10,
   "id": "f3325382",
   "metadata": {},
   "outputs": [],
   "source": [
    "b=[]\n",
    "\n",
    "for i in data['cleaned']:\n",
    "    b.append(get_tweet_sentiment(i))"
   ]
  },
  {
   "cell_type": "code",
   "execution_count": 11,
   "id": "9368655e",
   "metadata": {},
   "outputs": [],
   "source": [
    "data['Sentiments']=b"
   ]
  },
  {
   "cell_type": "code",
   "execution_count": 12,
   "id": "6d07f926",
   "metadata": {},
   "outputs": [
    {
     "name": "stderr",
     "output_type": "stream",
     "text": [
      "C:\\Users\\Vivek\\AppData\\Local\\Temp/ipykernel_37464/2173683792.py:1: SettingWithCopyWarning: \n",
      "A value is trying to be set on a copy of a slice from a DataFrame.\n",
      "Try using .loc[row_indexer,col_indexer] = value instead\n",
      "\n",
      "See the caveats in the documentation: https://pandas.pydata.org/pandas-docs/stable/user_guide/indexing.html#returning-a-view-versus-a-copy\n",
      "  data[data['Sentiments']=='negative']['Sentiments']=-1\n",
      "C:\\Users\\Vivek\\AppData\\Local\\Temp/ipykernel_37464/2173683792.py:2: SettingWithCopyWarning: \n",
      "A value is trying to be set on a copy of a slice from a DataFrame.\n",
      "Try using .loc[row_indexer,col_indexer] = value instead\n",
      "\n",
      "See the caveats in the documentation: https://pandas.pydata.org/pandas-docs/stable/user_guide/indexing.html#returning-a-view-versus-a-copy\n",
      "  data[data['Sentiments']=='neutral']['Sentiments']=0\n",
      "C:\\Users\\Vivek\\AppData\\Local\\Temp/ipykernel_37464/2173683792.py:3: SettingWithCopyWarning: \n",
      "A value is trying to be set on a copy of a slice from a DataFrame.\n",
      "Try using .loc[row_indexer,col_indexer] = value instead\n",
      "\n",
      "See the caveats in the documentation: https://pandas.pydata.org/pandas-docs/stable/user_guide/indexing.html#returning-a-view-versus-a-copy\n",
      "  data[data['Sentiments']=='positive']['Sentiments']=1\n"
     ]
    }
   ],
   "source": [
    "data[data['Sentiments']=='negative']['Sentiments']=-1\n",
    "data[data['Sentiments']=='neutral']['Sentiments']=0\n",
    "data[data['Sentiments']=='positive']['Sentiments']=1"
   ]
  },
  {
   "cell_type": "code",
   "execution_count": 18,
   "id": "16c75a88",
   "metadata": {},
   "outputs": [],
   "source": [
    "#tweets_tdidf_1"
   ]
  },
  {
   "cell_type": "code",
   "execution_count": 1,
   "id": "9305c68f",
   "metadata": {},
   "outputs": [
    {
     "data": {
      "text/plain": [
       "range(0, 3)"
      ]
     },
     "execution_count": 1,
     "metadata": {},
     "output_type": "execute_result"
    }
   ],
   "source": [
    "range(3)"
   ]
  },
  {
   "cell_type": "code",
   "execution_count": 13,
   "id": "a9c78a41",
   "metadata": {},
   "outputs": [
    {
     "data": {
      "text/html": [
       "<div>\n",
       "<style scoped>\n",
       "    .dataframe tbody tr th:only-of-type {\n",
       "        vertical-align: middle;\n",
       "    }\n",
       "\n",
       "    .dataframe tbody tr th {\n",
       "        vertical-align: top;\n",
       "    }\n",
       "\n",
       "    .dataframe thead th {\n",
       "        text-align: right;\n",
       "    }\n",
       "</style>\n",
       "<table border=\"1\" class=\"dataframe\">\n",
       "  <thead>\n",
       "    <tr style=\"text-align: right;\">\n",
       "      <th></th>\n",
       "      <th>Unnamed: 0</th>\n",
       "      <th>Tweets</th>\n",
       "      <th>cleaned_tweets</th>\n",
       "      <th>Tweet Date</th>\n",
       "      <th>cleaned</th>\n",
       "      <th>Sentiments</th>\n",
       "    </tr>\n",
       "  </thead>\n",
       "  <tbody>\n",
       "    <tr>\n",
       "      <th>0</th>\n",
       "      <td>0</td>\n",
       "      <td>bawazeer2 china4tech it will take a lot of hum...</td>\n",
       "      <td>['ErikSolheim', 'It', 'take', 'lot', 'humility...</td>\n",
       "      <td>3/6/2023 12:41</td>\n",
       "      <td>eriksolheim take lot humility side america</td>\n",
       "      <td>neutral</td>\n",
       "    </tr>\n",
       "    <tr>\n",
       "      <th>1</th>\n",
       "      <td>1</td>\n",
       "      <td>now for upsc prelims  google and just understa...</td>\n",
       "      <td>['AI', 'related', 'Important', 'terms', 'must'...</td>\n",
       "      <td>3/6/2023 12:41</td>\n",
       "      <td>related important terms must know upsc prelims...</td>\n",
       "      <td>positive</td>\n",
       "    </tr>\n",
       "    <tr>\n",
       "      <th>2</th>\n",
       "      <td>2</td>\n",
       "      <td>zenship in a country called latvia  he will be...</td>\n",
       "      <td>['INEC', 'chairman', 'obtained', 'new', 'citiz...</td>\n",
       "      <td>3/6/2023 12:41</td>\n",
       "      <td>inec chairman obtained new citizenship country...</td>\n",
       "      <td>positive</td>\n",
       "    </tr>\n",
       "    <tr>\n",
       "      <th>3</th>\n",
       "      <td>3</td>\n",
       "      <td>e meeting that google exec was set to attend  ...</td>\n",
       "      <td>['Technical', 'difficulties', 'delay', 'commit...</td>\n",
       "      <td>3/6/2023 12:41</td>\n",
       "      <td>technical difficulties delay committee meeting...</td>\n",
       "      <td>neutral</td>\n",
       "    </tr>\n",
       "    <tr>\n",
       "      <th>4</th>\n",
       "      <td>4</td>\n",
       "      <td>people probably dont care at all about convers...</td>\n",
       "      <td>['ca', \"n't\", 'shake', 'feeling', 'young', 'pe...</td>\n",
       "      <td>3/6/2023 12:41</td>\n",
       "      <td>shake feeling young people probably care conve...</td>\n",
       "      <td>positive</td>\n",
       "    </tr>\n",
       "  </tbody>\n",
       "</table>\n",
       "</div>"
      ],
      "text/plain": [
       "   Unnamed: 0                                             Tweets  \\\n",
       "0           0  bawazeer2 china4tech it will take a lot of hum...   \n",
       "1           1  now for upsc prelims  google and just understa...   \n",
       "2           2  zenship in a country called latvia  he will be...   \n",
       "3           3  e meeting that google exec was set to attend  ...   \n",
       "4           4  people probably dont care at all about convers...   \n",
       "\n",
       "                                      cleaned_tweets      Tweet Date  \\\n",
       "0  ['ErikSolheim', 'It', 'take', 'lot', 'humility...  3/6/2023 12:41   \n",
       "1  ['AI', 'related', 'Important', 'terms', 'must'...  3/6/2023 12:41   \n",
       "2  ['INEC', 'chairman', 'obtained', 'new', 'citiz...  3/6/2023 12:41   \n",
       "3  ['Technical', 'difficulties', 'delay', 'commit...  3/6/2023 12:41   \n",
       "4  ['ca', \"n't\", 'shake', 'feeling', 'young', 'pe...  3/6/2023 12:41   \n",
       "\n",
       "                                             cleaned Sentiments  \n",
       "0         eriksolheim take lot humility side america    neutral  \n",
       "1  related important terms must know upsc prelims...   positive  \n",
       "2  inec chairman obtained new citizenship country...   positive  \n",
       "3  technical difficulties delay committee meeting...    neutral  \n",
       "4  shake feeling young people probably care conve...   positive  "
      ]
     },
     "execution_count": 13,
     "metadata": {},
     "output_type": "execute_result"
    }
   ],
   "source": [
    "data.head()"
   ]
  },
  {
   "cell_type": "code",
   "execution_count": 16,
   "id": "f13def08",
   "metadata": {},
   "outputs": [],
   "source": [
    "data.iloc[:, 3:].to_csv(r'C:\\Users\\Vivek\\OneDrive\\Desktop\\tweets_sentiments.csv')"
   ]
  },
  {
   "cell_type": "code",
   "execution_count": 15,
   "id": "775bb0a3",
   "metadata": {},
   "outputs": [
    {
     "data": {
      "text/html": [
       "<div>\n",
       "<style scoped>\n",
       "    .dataframe tbody tr th:only-of-type {\n",
       "        vertical-align: middle;\n",
       "    }\n",
       "\n",
       "    .dataframe tbody tr th {\n",
       "        vertical-align: top;\n",
       "    }\n",
       "\n",
       "    .dataframe thead th {\n",
       "        text-align: right;\n",
       "    }\n",
       "</style>\n",
       "<table border=\"1\" class=\"dataframe\">\n",
       "  <thead>\n",
       "    <tr style=\"text-align: right;\">\n",
       "      <th></th>\n",
       "      <th>Tweet Date</th>\n",
       "      <th>cleaned</th>\n",
       "      <th>Sentiments</th>\n",
       "    </tr>\n",
       "  </thead>\n",
       "  <tbody>\n",
       "    <tr>\n",
       "      <th>0</th>\n",
       "      <td>3/6/2023 12:41</td>\n",
       "      <td>eriksolheim take lot humility side america</td>\n",
       "      <td>neutral</td>\n",
       "    </tr>\n",
       "    <tr>\n",
       "      <th>1</th>\n",
       "      <td>3/6/2023 12:41</td>\n",
       "      <td>related important terms must know upsc prelims...</td>\n",
       "      <td>positive</td>\n",
       "    </tr>\n",
       "    <tr>\n",
       "      <th>2</th>\n",
       "      <td>3/6/2023 12:41</td>\n",
       "      <td>inec chairman obtained new citizenship country...</td>\n",
       "      <td>positive</td>\n",
       "    </tr>\n",
       "    <tr>\n",
       "      <th>3</th>\n",
       "      <td>3/6/2023 12:41</td>\n",
       "      <td>technical difficulties delay committee meeting...</td>\n",
       "      <td>neutral</td>\n",
       "    </tr>\n",
       "    <tr>\n",
       "      <th>4</th>\n",
       "      <td>3/6/2023 12:41</td>\n",
       "      <td>shake feeling young people probably care conve...</td>\n",
       "      <td>positive</td>\n",
       "    </tr>\n",
       "    <tr>\n",
       "      <th>...</th>\n",
       "      <td>...</td>\n",
       "      <td>...</td>\n",
       "      <td>...</td>\n",
       "    </tr>\n",
       "    <tr>\n",
       "      <th>10537</th>\n",
       "      <td>3/20/2023 12:25</td>\n",
       "      <td>seeing outflows nothing remotely qualifies exo...</td>\n",
       "      <td>neutral</td>\n",
       "    </tr>\n",
       "    <tr>\n",
       "      <th>10538</th>\n",
       "      <td>3/20/2023 12:25</td>\n",
       "      <td>feds pivot hyperinflation kills middle class c...</td>\n",
       "      <td>neutral</td>\n",
       "    </tr>\n",
       "    <tr>\n",
       "      <th>10539</th>\n",
       "      <td>3/20/2023 12:25</td>\n",
       "      <td>two billion people join world already experien...</td>\n",
       "      <td>positive</td>\n",
       "    </tr>\n",
       "    <tr>\n",
       "      <th>10540</th>\n",
       "      <td>3/20/2023 12:25</td>\n",
       "      <td>talking banking crisis causing recession baby ...</td>\n",
       "      <td>negative</td>\n",
       "    </tr>\n",
       "    <tr>\n",
       "      <th>10541</th>\n",
       "      <td>3/20/2023 12:25</td>\n",
       "      <td>worried upcoming economicdownturn read newest ...</td>\n",
       "      <td>neutral</td>\n",
       "    </tr>\n",
       "  </tbody>\n",
       "</table>\n",
       "<p>10542 rows × 3 columns</p>\n",
       "</div>"
      ],
      "text/plain": [
       "            Tweet Date                                            cleaned  \\\n",
       "0       3/6/2023 12:41         eriksolheim take lot humility side america   \n",
       "1       3/6/2023 12:41  related important terms must know upsc prelims...   \n",
       "2       3/6/2023 12:41  inec chairman obtained new citizenship country...   \n",
       "3       3/6/2023 12:41  technical difficulties delay committee meeting...   \n",
       "4       3/6/2023 12:41  shake feeling young people probably care conve...   \n",
       "...                ...                                                ...   \n",
       "10537  3/20/2023 12:25  seeing outflows nothing remotely qualifies exo...   \n",
       "10538  3/20/2023 12:25  feds pivot hyperinflation kills middle class c...   \n",
       "10539  3/20/2023 12:25  two billion people join world already experien...   \n",
       "10540  3/20/2023 12:25  talking banking crisis causing recession baby ...   \n",
       "10541  3/20/2023 12:25  worried upcoming economicdownturn read newest ...   \n",
       "\n",
       "      Sentiments  \n",
       "0        neutral  \n",
       "1       positive  \n",
       "2       positive  \n",
       "3        neutral  \n",
       "4       positive  \n",
       "...          ...  \n",
       "10537    neutral  \n",
       "10538    neutral  \n",
       "10539   positive  \n",
       "10540   negative  \n",
       "10541    neutral  \n",
       "\n",
       "[10542 rows x 3 columns]"
      ]
     },
     "execution_count": 15,
     "metadata": {},
     "output_type": "execute_result"
    }
   ],
   "source": [
    "data.iloc[:, 3:]"
   ]
  },
  {
   "cell_type": "code",
   "execution_count": 20,
   "id": "8efcaad6",
   "metadata": {},
   "outputs": [],
   "source": [
    "df = pd.read_csv(r\"C:\\Users\\Vivek\\OneDrive\\Desktop\\tweets_sentiments.csv\", encoding=\"utf-8\")"
   ]
  },
  {
   "cell_type": "code",
   "execution_count": 41,
   "id": "677835e7",
   "metadata": {},
   "outputs": [],
   "source": [
    "import matplotlib.pyplot as plt\n",
    "import numpy as np\n"
   ]
  },
  {
   "cell_type": "code",
   "execution_count": 39,
   "id": "e57d4fc6",
   "metadata": {},
   "outputs": [
    {
     "data": {
      "text/plain": [
       "<BarContainer object of 3 artists>"
      ]
     },
     "execution_count": 39,
     "metadata": {},
     "output_type": "execute_result"
    },
    {
     "data": {
      "image/png": "[encoded data removed]",
      "text/plain": [
       "<Figure size 432x288 with 1 Axes>"
      ]
     },
     "metadata": {
      "needs_background": "light"
     },
     "output_type": "display_data"
    }
   ],
   "source": [
    "plt.bar([\"Positive\", \"Neutral\", \"Negative\"], df[\"Sentiments\"].value_counts())"
   ]
  },
  {
   "cell_type": "code",
   "execution_count": 40,
   "id": "cf9706a3",
   "metadata": {},
   "outputs": [
    {
     "data": {
      "text/plain": [
       "positive    5264\n",
       "neutral     3543\n",
       "negative    1735\n",
       "Name: Sentiments, dtype: int64"
      ]
     },
     "execution_count": 40,
     "metadata": {},
     "output_type": "execute_result"
    }
   ],
   "source": [
    "df[\"Sentiments\"].value_counts()"
   ]
  },
  {
   "cell_type": "code",
   "execution_count": null,
   "id": "73d6635e",
   "metadata": {},
   "outputs": [],
   "source": []
  }
 ],
 "metadata": {
  "kernelspec": {
   "display_name": "Python 3 (ipykernel)",
   "language": "python",
   "name": "python3"
  },
  "language_info": {
   "codemirror_mode": {
    "name": "ipython",
    "version": 3
   },
   "file_extension": ".py",
   "mimetype": "text/x-python",
   "name": "python",
   "nbconvert_exporter": "python",
   "pygments_lexer": "ipython3",
   "version": "3.9.7"
  }
 },
 "nbformat": 4,
 "nbformat_minor": 5
}
